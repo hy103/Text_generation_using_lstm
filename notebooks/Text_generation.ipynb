{
 "cells": [
  {
   "cell_type": "code",
   "execution_count": 52,
   "id": "40c74c1b-03fe-453f-a09e-cd14b1af0921",
   "metadata": {},
   "outputs": [],
   "source": [
    "import torch\n",
    "import pandas as pd\n",
    "import os\n",
    "import string\n",
    "from nltk.tokenize import word_tokenize\n",
    "from collections import defaultdict\n",
    "import numpy as np "
   ]
  },
  {
   "cell_type": "code",
   "execution_count": 47,
   "id": "c1d4d14a-860e-43a1-9309-25fccedf3b82",
   "metadata": {},
   "outputs": [
    {
     "name": "stderr",
     "output_type": "stream",
     "text": [
      "[nltk_data] Downloading package punkt_tab to\n",
      "[nltk_data]     /home/hyarrava/nltk_data...\n",
      "[nltk_data]   Package punkt_tab is already up-to-date!\n",
      "[nltk_data] Downloading package wordnet to /home/hyarrava/nltk_data...\n",
      "[nltk_data]   Package wordnet is already up-to-date!\n",
      "[nltk_data] Downloading package omw-1.4 to /home/hyarrava/nltk_data...\n",
      "[nltk_data]   Package omw-1.4 is already up-to-date!\n"
     ]
    },
    {
     "data": {
      "text/plain": [
       "True"
      ]
     },
     "execution_count": 47,
     "metadata": {},
     "output_type": "execute_result"
    }
   ],
   "source": [
    "nltk.download('punkt_tab')\n",
    "nltk.download('wordnet')\n",
    "nltk.download('omw-1.4')"
   ]
  },
  {
   "cell_type": "code",
   "execution_count": 48,
   "id": "fad3b023-c38f-48f5-81fa-789c5abaa6ea",
   "metadata": {},
   "outputs": [],
   "source": [
    "curr_dir = \"/home/hyarrava/Text_generation_using_lstm/\"\n",
    "\n",
    "all_headlines = []\n",
    "\n",
    "for filename in os.listdir(os.path.join(curr_dir, \"data/\")):\n",
    "    if 'Articles' in filename:\n",
    "        articles_df = pd.read_csv(os.path.join(curr_dir, \"data/\", filename))\n",
    "        all_headlines.extend(list(articles_df.headline.values))\n",
    "        break\n",
    "\n",
    "all_headlines = [h for h in all_headlines if h!=\"Unknow\"]"
   ]
  },
  {
   "cell_type": "code",
   "execution_count": 49,
   "id": "4aea5d97-b599-49c4-b559-cbfcc38cdde7",
   "metadata": {},
   "outputs": [],
   "source": [
    "def clean_text(txt):\n",
    "    txt = ''.join(v for v in txt if v not in string.punctuation).lower()\n",
    "    txt = txt.encode(\"utf-8\").decode(\"ascii\", \"ignore\")\n",
    "    return txt\n",
    "\n",
    "corpus = [clean_text(x) for x in all_headlines]"
   ]
  },
  {
   "cell_type": "code",
   "execution_count": 50,
   "id": "2c0d69e9-7ea4-4359-a1e9-5b9e619aa460",
   "metadata": {},
   "outputs": [],
   "source": [
    "def build_word_index(corpus):\n",
    "    word_index = defaultdict(int)\n",
    "    index =1\n",
    "\n",
    "    for line in corpus:\n",
    "        tokens = word_tokenize(line.lower())\n",
    "        for token in tokens:\n",
    "            if token not in word_index:\n",
    "                word_index[token] = index\n",
    "                index+=1\n",
    "    return word_index\n",
    "\n",
    "\n",
    "def get_sequence_of_tokens(corpus, word_index):\n",
    "    input_sequences = [] \n",
    "    for line in corpus:\n",
    "        tokens = word_tokenize(line.lower())\n",
    "        token_list = [word_index[token] for token in tokens] ## list of tokens for each sentence or line       \n",
    "        for i in range(1, len(token_list)):\n",
    "            n_gram_sequence = token_list[:i+1]\n",
    "            input_sequences.append(n_gram_sequence)\n",
    "            \n",
    "    return input_sequences"
   ]
  },
  {
   "cell_type": "code",
   "execution_count": 51,
   "id": "463a4b5a-c4c9-47c6-8f99-2a31530a6051",
   "metadata": {},
   "outputs": [],
   "source": [
    "word_index = build_word_index(corpus)\n",
    "input_sequences = get_sequence_of_tokens(corpus, word_index)"
   ]
  },
  {
   "cell_type": "markdown",
   "id": "f97f4a88-9a57-4885-948a-86fd9401584f",
   "metadata": {},
   "source": [
    "### Padding"
   ]
  },
  {
   "cell_type": "code",
   "execution_count": 55,
   "id": "f856315d-f6d6-400f-91ab-928bd0a0f6b9",
   "metadata": {},
   "outputs": [],
   "source": [
    "def pad_sequences(sequences, maxlen= None, padding = 'post', truncating = 'post', value =0):\n",
    "    if maxlen is None:\n",
    "        maxlen = max(len(seq) for seq in sequences)\n",
    "\n",
    "    padded_sequences = []\n",
    "    for seq in sequences:\n",
    "        if len(seq) < maxlen:\n",
    "            if padding == 'post':\n",
    "                padded_seq = seq + [value]* (maxlen - len(seq))\n",
    "            else:\n",
    "                padded_seq = [value]* (maxlen - len(seq)) + seq\n",
    "\n",
    "        else : \n",
    "            padded_seq = seq\n",
    "\n",
    "        if len(seq) > maxlen:\n",
    "            if truncating == 'pre':\n",
    "                truncated_seq = seq[-maxlen:]\n",
    "            else :\n",
    "                truncated_seq = seq[:maxlen]\n",
    "\n",
    "        padded_sequences.append(padded_seq)\n",
    "\n",
    "    return np.array(padded_sequences)\n",
    "            \n",
    "            "
   ]
  },
  {
   "cell_type": "code",
   "execution_count": 56,
   "id": "376768a0-69cb-4805-9550-553c393ae391",
   "metadata": {},
   "outputs": [],
   "source": [
    "padded_sequences = pad_sequences(input_sequences, maxlen= None, padding = 'post', \n",
    "                                 truncating = 'post', value =0)"
   ]
  },
  {
   "cell_type": "code",
   "execution_count": 58,
   "id": "350b3438-6b66-4dbf-92c7-73b04df7208b",
   "metadata": {},
   "outputs": [
    {
     "data": {
      "text/plain": [
       "array([1, 2, 0, 0, 0, 0, 0, 0, 0, 0, 0, 0, 0, 0, 0, 0, 0, 0])"
      ]
     },
     "execution_count": 58,
     "metadata": {},
     "output_type": "execute_result"
    }
   ],
   "source": [
    "padded_sequences[0]"
   ]
  },
  {
   "cell_type": "code",
   "execution_count": null,
   "id": "45e6de88-f060-4a58-9590-285ecb9bc982",
   "metadata": {},
   "outputs": [],
   "source": []
  }
 ],
 "metadata": {
  "kernelspec": {
   "display_name": "Python 3 (ipykernel)",
   "language": "python",
   "name": "python3"
  },
  "language_info": {
   "codemirror_mode": {
    "name": "ipython",
    "version": 3
   },
   "file_extension": ".py",
   "mimetype": "text/x-python",
   "name": "python",
   "nbconvert_exporter": "python",
   "pygments_lexer": "ipython3",
   "version": "3.10.8"
  }
 },
 "nbformat": 4,
 "nbformat_minor": 5
}
